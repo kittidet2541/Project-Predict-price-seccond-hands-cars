{
 "cells": [
  {
   "cell_type": "code",
   "execution_count": 1,
   "id": "9eb9e8fb",
   "metadata": {
    "_cell_guid": "b1076dfc-b9ad-4769-8c92-a6c4dae69d19",
    "_uuid": "8f2839f25d086af736a60e9eeb907d3b93b6e0e5",
    "execution": {
     "iopub.execute_input": "2024-01-13T13:57:51.924094Z",
     "iopub.status.busy": "2024-01-13T13:57:51.923705Z",
     "iopub.status.idle": "2024-01-13T13:57:52.358750Z",
     "shell.execute_reply": "2024-01-13T13:57:52.357454Z"
    },
    "papermill": {
     "duration": 0.443949,
     "end_time": "2024-01-13T13:57:52.361233",
     "exception": false,
     "start_time": "2024-01-13T13:57:51.917284",
     "status": "completed"
    },
    "tags": []
   },
   "outputs": [
    {
     "name": "stdout",
     "output_type": "stream",
     "text": [
      "/kaggle/input/used-car-price-prediction/car_web_scraped_dataset.csv\n"
     ]
    }
   ],
   "source": [
    "# This Python 3 environment comes with many helpful analytics libraries installed\n",
    "# It is defined by the kaggle/python Docker image: https://github.com/kaggle/docker-python\n",
    "# For example, here's several helpful packages to load\n",
    "\n",
    "import numpy as np # linear algebra\n",
    "import pandas as pd # data processing, CSV file I/O (e.g. pd.read_csv)\n",
    "\n",
    "# Input data files are available in the read-only \"../input/\" directory\n",
    "# For example, running this (by clicking run or pressing Shift+Enter) will list all files under the input directory\n",
    "\n",
    "import os\n",
    "for dirname, _, filenames in os.walk('/kaggle/input'):\n",
    "    for filename in filenames:\n",
    "        print(os.path.join(dirname, filename))\n",
    "\n",
    "# You can write up to 20GB to the current directory (/kaggle/working/) that gets preserved as output when you create a version using \"Save & Run All\" \n",
    "# You can also write temporary files to /kaggle/temp/, but they won't be saved outside of the current session"
   ]
  },
  {
   "cell_type": "code",
   "execution_count": 2,
   "id": "29a50674",
   "metadata": {
    "execution": {
     "iopub.execute_input": "2024-01-13T13:57:52.369583Z",
     "iopub.status.busy": "2024-01-13T13:57:52.369026Z",
     "iopub.status.idle": "2024-01-13T13:57:52.399583Z",
     "shell.execute_reply": "2024-01-13T13:57:52.398363Z"
    },
    "papermill": {
     "duration": 0.037544,
     "end_time": "2024-01-13T13:57:52.402254",
     "exception": false,
     "start_time": "2024-01-13T13:57:52.364710",
     "status": "completed"
    },
    "tags": []
   },
   "outputs": [],
   "source": [
    "df = pd.read_csv('/kaggle/input/used-car-price-prediction/car_web_scraped_dataset.csv')\n"
   ]
  },
  {
   "cell_type": "code",
   "execution_count": 3,
   "id": "788ce2eb",
   "metadata": {
    "execution": {
     "iopub.execute_input": "2024-01-13T13:57:52.410757Z",
     "iopub.status.busy": "2024-01-13T13:57:52.410061Z",
     "iopub.status.idle": "2024-01-13T13:57:52.442248Z",
     "shell.execute_reply": "2024-01-13T13:57:52.441278Z"
    },
    "papermill": {
     "duration": 0.03928,
     "end_time": "2024-01-13T13:57:52.444974",
     "exception": false,
     "start_time": "2024-01-13T13:57:52.405694",
     "status": "completed"
    },
    "tags": []
   },
   "outputs": [
    {
     "data": {
      "text/html": [
       "<div>\n",
       "<style scoped>\n",
       "    .dataframe tbody tr th:only-of-type {\n",
       "        vertical-align: middle;\n",
       "    }\n",
       "\n",
       "    .dataframe tbody tr th {\n",
       "        vertical-align: top;\n",
       "    }\n",
       "\n",
       "    .dataframe thead th {\n",
       "        text-align: right;\n",
       "    }\n",
       "</style>\n",
       "<table border=\"1\" class=\"dataframe\">\n",
       "  <thead>\n",
       "    <tr style=\"text-align: right;\">\n",
       "      <th></th>\n",
       "      <th>name</th>\n",
       "      <th>year</th>\n",
       "      <th>miles</th>\n",
       "      <th>color</th>\n",
       "      <th>condition</th>\n",
       "      <th>price</th>\n",
       "    </tr>\n",
       "  </thead>\n",
       "  <tbody>\n",
       "    <tr>\n",
       "      <th>0</th>\n",
       "      <td>Kia Forte</td>\n",
       "      <td>2022</td>\n",
       "      <td>41,406 miles</td>\n",
       "      <td>Gray exterior, Black interior</td>\n",
       "      <td>No accidents reported, 1 Owner</td>\n",
       "      <td>$15,988</td>\n",
       "    </tr>\n",
       "    <tr>\n",
       "      <th>1</th>\n",
       "      <td>Chevrolet Silverado 1500</td>\n",
       "      <td>2021</td>\n",
       "      <td>15,138 miles</td>\n",
       "      <td>White exterior, Black interior</td>\n",
       "      <td>1 accident reported, 1 Owner</td>\n",
       "      <td>$38,008</td>\n",
       "    </tr>\n",
       "    <tr>\n",
       "      <th>2</th>\n",
       "      <td>Toyota RAV4</td>\n",
       "      <td>2022</td>\n",
       "      <td>32,879 miles</td>\n",
       "      <td>Silver exterior, Unknown interior</td>\n",
       "      <td>No accidents reported, 1 Owner</td>\n",
       "      <td>$24,988</td>\n",
       "    </tr>\n",
       "    <tr>\n",
       "      <th>3</th>\n",
       "      <td>Honda Civic</td>\n",
       "      <td>2020</td>\n",
       "      <td>37,190 miles</td>\n",
       "      <td>Blue exterior, Black interior</td>\n",
       "      <td>No accidents reported, 1 Owner</td>\n",
       "      <td>$18,998</td>\n",
       "    </tr>\n",
       "    <tr>\n",
       "      <th>4</th>\n",
       "      <td>Honda Civic</td>\n",
       "      <td>2020</td>\n",
       "      <td>27,496 miles</td>\n",
       "      <td>Black exterior, Black interior</td>\n",
       "      <td>No accidents reported, 1 Owner</td>\n",
       "      <td>$19,498</td>\n",
       "    </tr>\n",
       "    <tr>\n",
       "      <th>...</th>\n",
       "      <td>...</td>\n",
       "      <td>...</td>\n",
       "      <td>...</td>\n",
       "      <td>...</td>\n",
       "      <td>...</td>\n",
       "      <td>...</td>\n",
       "    </tr>\n",
       "    <tr>\n",
       "      <th>2835</th>\n",
       "      <td>Ford Escape</td>\n",
       "      <td>2013</td>\n",
       "      <td>98,601 miles</td>\n",
       "      <td>Silver exterior, Unknown interior</td>\n",
       "      <td>2 accidents reported, 3 Owners</td>\n",
       "      <td>$8,995</td>\n",
       "    </tr>\n",
       "    <tr>\n",
       "      <th>2836</th>\n",
       "      <td>Mercedes-Benz R-Class</td>\n",
       "      <td>2009</td>\n",
       "      <td>120,694 miles</td>\n",
       "      <td>Black exterior, Black interior</td>\n",
       "      <td>1 accident reported, 3 Owners</td>\n",
       "      <td>$9,495</td>\n",
       "    </tr>\n",
       "    <tr>\n",
       "      <th>2837</th>\n",
       "      <td>Mercedes-Benz GLC</td>\n",
       "      <td>2022</td>\n",
       "      <td>27,894 miles</td>\n",
       "      <td>Gray exterior, Gray interior</td>\n",
       "      <td>No accidents reported, 2 Owners</td>\n",
       "      <td>$29,999</td>\n",
       "    </tr>\n",
       "    <tr>\n",
       "      <th>2838</th>\n",
       "      <td>Honda CR-V</td>\n",
       "      <td>2021</td>\n",
       "      <td>50,220 miles</td>\n",
       "      <td>Gray exterior, Unknown interior</td>\n",
       "      <td>No accidents reported, 1 Owner</td>\n",
       "      <td>$22,992</td>\n",
       "    </tr>\n",
       "    <tr>\n",
       "      <th>2839</th>\n",
       "      <td>Honda Civic</td>\n",
       "      <td>2021</td>\n",
       "      <td>26,510 miles</td>\n",
       "      <td>White exterior, Black interior</td>\n",
       "      <td>No accidents reported, 1 Owner</td>\n",
       "      <td>$24,135</td>\n",
       "    </tr>\n",
       "  </tbody>\n",
       "</table>\n",
       "<p>2840 rows × 6 columns</p>\n",
       "</div>"
      ],
      "text/plain": [
       "                          name  year          miles  \\\n",
       "0                    Kia Forte  2022   41,406 miles   \n",
       "1     Chevrolet Silverado 1500  2021   15,138 miles   \n",
       "2                  Toyota RAV4  2022   32,879 miles   \n",
       "3                  Honda Civic  2020   37,190 miles   \n",
       "4                  Honda Civic  2020   27,496 miles   \n",
       "...                        ...   ...            ...   \n",
       "2835               Ford Escape  2013   98,601 miles   \n",
       "2836     Mercedes-Benz R-Class  2009  120,694 miles   \n",
       "2837         Mercedes-Benz GLC  2022   27,894 miles   \n",
       "2838                Honda CR-V  2021   50,220 miles   \n",
       "2839               Honda Civic  2021   26,510 miles   \n",
       "\n",
       "                                  color                        condition  \\\n",
       "0         Gray exterior, Black interior   No accidents reported, 1 Owner   \n",
       "1        White exterior, Black interior     1 accident reported, 1 Owner   \n",
       "2     Silver exterior, Unknown interior   No accidents reported, 1 Owner   \n",
       "3         Blue exterior, Black interior   No accidents reported, 1 Owner   \n",
       "4        Black exterior, Black interior   No accidents reported, 1 Owner   \n",
       "...                                 ...                              ...   \n",
       "2835  Silver exterior, Unknown interior   2 accidents reported, 3 Owners   \n",
       "2836     Black exterior, Black interior    1 accident reported, 3 Owners   \n",
       "2837       Gray exterior, Gray interior  No accidents reported, 2 Owners   \n",
       "2838    Gray exterior, Unknown interior   No accidents reported, 1 Owner   \n",
       "2839     White exterior, Black interior   No accidents reported, 1 Owner   \n",
       "\n",
       "        price  \n",
       "0     $15,988  \n",
       "1     $38,008  \n",
       "2     $24,988  \n",
       "3     $18,998  \n",
       "4     $19,498  \n",
       "...       ...  \n",
       "2835   $8,995  \n",
       "2836   $9,495  \n",
       "2837  $29,999  \n",
       "2838  $22,992  \n",
       "2839  $24,135  \n",
       "\n",
       "[2840 rows x 6 columns]"
      ]
     },
     "execution_count": 3,
     "metadata": {},
     "output_type": "execute_result"
    }
   ],
   "source": [
    "df"
   ]
  },
  {
   "cell_type": "markdown",
   "id": "7f555a02",
   "metadata": {
    "papermill": {
     "duration": 0.0032,
     "end_time": "2024-01-13T13:57:52.451771",
     "exception": false,
     "start_time": "2024-01-13T13:57:52.448571",
     "status": "completed"
    },
    "tags": []
   },
   "source": [
    "# Clean data"
   ]
  },
  {
   "cell_type": "code",
   "execution_count": 4,
   "id": "b24b037c",
   "metadata": {
    "execution": {
     "iopub.execute_input": "2024-01-13T13:57:52.460247Z",
     "iopub.status.busy": "2024-01-13T13:57:52.459873Z",
     "iopub.status.idle": "2024-01-13T13:57:52.463814Z",
     "shell.execute_reply": "2024-01-13T13:57:52.463033Z"
    },
    "papermill": {
     "duration": 0.010792,
     "end_time": "2024-01-13T13:57:52.465870",
     "exception": false,
     "start_time": "2024-01-13T13:57:52.455078",
     "status": "completed"
    },
    "tags": []
   },
   "outputs": [],
   "source": [
    "df_clean = df"
   ]
  },
  {
   "cell_type": "code",
   "execution_count": null,
   "id": "106f8112",
   "metadata": {
    "papermill": {
     "duration": 0.003182,
     "end_time": "2024-01-13T13:57:52.472626",
     "exception": false,
     "start_time": "2024-01-13T13:57:52.469444",
     "status": "completed"
    },
    "tags": []
   },
   "outputs": [],
   "source": []
  }
 ],
 "metadata": {
  "kaggle": {
   "accelerator": "none",
   "dataSources": [
    {
     "datasetId": 4243612,
     "sourceId": 7312995,
     "sourceType": "datasetVersion"
    }
   ],
   "dockerImageVersionId": 30635,
   "isGpuEnabled": false,
   "isInternetEnabled": true,
   "language": "python",
   "sourceType": "notebook"
  },
  "kernelspec": {
   "display_name": "Python 3",
   "language": "python",
   "name": "python3"
  },
  "language_info": {
   "codemirror_mode": {
    "name": "ipython",
    "version": 3
   },
   "file_extension": ".py",
   "mimetype": "text/x-python",
   "name": "python",
   "nbconvert_exporter": "python",
   "pygments_lexer": "ipython3",
   "version": "3.10.12"
  },
  "papermill": {
   "default_parameters": {},
   "duration": 4.472832,
   "end_time": "2024-01-13T13:57:52.997082",
   "environment_variables": {},
   "exception": null,
   "input_path": "__notebook__.ipynb",
   "output_path": "__notebook__.ipynb",
   "parameters": {},
   "start_time": "2024-01-13T13:57:48.524250",
   "version": "2.4.0"
  }
 },
 "nbformat": 4,
 "nbformat_minor": 5
}
